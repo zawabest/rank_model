{
 "cells": [
  {
   "cell_type": "code",
   "execution_count": 5,
   "metadata": {},
   "outputs": [],
   "source": [
    "import argparse\n",
    "from elasticsearch import Elasticsearch\n",
    "from elasticsearch.helpers import bulk, parallel_bulk\n",
    "import logging\n",
    "import pandas as pd\n",
    "from pandasticsearch import DataFrame, Select\n",
    "from sklearn import datasets\n",
    "import threading\n",
    "import time\n",
    "from tool.sink import ESSink\n",
    "from tqdm import tqdm"
   ]
  },
  {
   "cell_type": "code",
   "execution_count": 6,
   "metadata": {},
   "outputs": [],
   "source": [
    "def log_init():\n",
    "    LOG_FORMAT = \"%(asctime)s - %(levelname)s - %(message)s\"\n",
    "    DATE_FORMAT = \"%m/%d/%Y %H:%M:%S %p\"\n",
    "    fs = logging.StreamHandler()\n",
    "    logging.basicConfig(level=logging.WARNING, format=LOG_FORMAT, datefmt=DATE_FORMAT, handlers=[fs])"
   ]
  },
  {
   "cell_type": "code",
   "execution_count": 7,
   "metadata": {},
   "outputs": [],
   "source": [
    "def params_init():\n",
    "    parser = argparse.ArgumentParser()\n",
    "    parser.add_argument('--es', help='ES host', type=str)\n",
    "    parser.add_argument('--name', help='ES user', type=str)\n",
    "    parser.add_argument('--password', help='ES password', type=str)\n",
    "    parser.add_argument('--savename', help='ES features save', type=str)\n",
    "    group = parser.add_mutually_exclusive_group()\n",
    "    args = parser.parse_args()\n",
    "    return args"
   ]
  },
  {
   "cell_type": "code",
   "execution_count": 8,
   "metadata": {},
   "outputs": [],
   "source": [
    "def es_init(args):\n",
    "    host = args['es']\n",
    "    username = args['name']\n",
    "    password = args['password']\n",
    "    \n",
    "    es = Elasticsearch(\n",
    "        [host],\n",
    "        http_auth=(username, password)\n",
    "    )\n",
    "    return es"
   ]
  },
  {
   "cell_type": "code",
   "execution_count": 30,
   "metadata": {},
   "outputs": [
    {
     "name": "stdout",
     "output_type": "stream",
     "text": [
      "开启线程： Thread-1\n",
      "开启线程： Thread-2\n",
      "Thread-1: Fri Dec  6 17:46:28 2019\n",
      "Thread-2: Fri Dec  6 17:46:28 2019\n",
      "Thread-2: Fri Dec  6 17:46:28 2019\n",
      "Thread-1: Fri Dec  6 17:46:28 2019\n",
      "Thread-1: Fri Dec  6 17:46:28 2019\n",
      "Thread-2: Fri Dec  6 17:46:28 2019\n",
      "Thread-2: Fri Dec  6 17:46:28 2019\n",
      "Thread-1: Fri Dec  6 17:46:28 2019\n",
      "Thread-1: Fri Dec  6 17:46:28 2019\n",
      "Thread-2: Fri Dec  6 17:46:28 2019\n"
     ]
    }
   ],
   "source": [
    "class LoadData(threading.Thread):\n",
    "    def __init__(self, es, tablename, cols):\n",
    "        threading.Thread.__init__(self)\n",
    "        self.es = es\n",
    "        self.tablename = tablename\n",
    "        self.cols = cols\n",
    "        self.df = None\n",
    "             \n",
    "    def get_df():\n",
    "        maxsize = 10000000\n",
    "        data = self.es.search(index=self.tablename, body={\"size\": maxsize})\n",
    "        self.df = Select.from_dict(data).to_pandas()[cols].astype(str)\n",
    "    \n",
    "    def run(self):\n",
    "        logger.info('[pull data]', self.tablename)"
   ]
  },
  {
   "cell_type": "code",
   "execution_count": null,
   "metadata": {},
   "outputs": [],
   "source": [
    "def feature_engineering(es, args):\n",
    "    savename = args['save-name']\n",
    "    info = []\n",
    "    user_info = LoadData(es, 'index_user_info', 'os, phone, sex')\n",
    "    item_info = LoadData(es, 'syp', 'bbsid, bbstype')\n",
    "    context_info = LoadData(es, 'index_syp_user_suggest', 'userid, bbsid')\n",
    "    user_info.start()\n",
    "    item_info.start()\n",
    "    context_info.start()\n",
    "    info.append(user_info).append(item_info).append(context_info)\n",
    "    for i in info:\n",
    "        i.join()"
   ]
  },
  {
   "cell_type": "code",
   "execution_count": null,
   "metadata": {},
   "outputs": [],
   "source": [
    "def main():\n",
    "    log_init()\n",
    "    args = params_init()\n",
    "    logger.info('[params]', args)\n",
    "    es = es_init(args)\n",
    "    feature_engineering(es, args)\n",
    "    \n",
    "if __name__ == '__main__':\n",
    "    main()"
   ]
  }
 ],
 "metadata": {
  "kernelspec": {
   "display_name": "Python 3",
   "language": "python",
   "name": "python3"
  },
  "language_info": {
   "codemirror_mode": {
    "name": "ipython",
    "version": 3
   },
   "file_extension": ".py",
   "mimetype": "text/x-python",
   "name": "python",
   "nbconvert_exporter": "python",
   "pygments_lexer": "ipython3",
   "version": "3.7.4"
  }
 },
 "nbformat": 4,
 "nbformat_minor": 2
}
